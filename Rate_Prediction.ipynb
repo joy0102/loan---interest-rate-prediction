{
 "cells": [
  {
   "cell_type": "markdown",
   "id": "7e8cca20",
   "metadata": {},
   "source": [
    "## Predicting Loan Interests"
   ]
  },
  {
   "cell_type": "code",
   "execution_count": 1,
   "id": "225daeb4",
   "metadata": {},
   "outputs": [],
   "source": [
    "# import modules \n",
    "import pandas as pd\n",
    "import numpy as np\n",
    "from datetime import datetime\n",
    "\n",
    "import seaborn as sns\n",
    "from sklearn.cluster import KMeans\n",
    "from sklearn.model_selection import train_test_split"
   ]
  },
  {
   "cell_type": "code",
   "execution_count": 2,
   "id": "a08e3611",
   "metadata": {},
   "outputs": [],
   "source": [
    "%matplotlib inline"
   ]
  },
  {
   "cell_type": "code",
   "execution_count": 3,
   "id": "4011a31a",
   "metadata": {},
   "outputs": [
    {
     "name": "stderr",
     "output_type": "stream",
     "text": [
      "/Users/Joy/opt/anaconda3/lib/python3.8/site-packages/IPython/core/interactiveshell.py:3165: DtypeWarning: Columns (15) have mixed types.Specify dtype option on import or set low_memory=False.\n",
      "  has_raised = await self.run_ast_nodes(code_ast.body, cell_name,\n"
     ]
    }
   ],
   "source": [
    "# load data\n",
    "loan = pd.read_csv(\"Data for Cleaning & Modeling.csv\", dtype={'X15': object})"
   ]
  },
  {
   "cell_type": "markdown",
   "id": "5c04f27f",
   "metadata": {},
   "source": [
    "### Preprocess Data"
   ]
  },
  {
   "cell_type": "markdown",
   "id": "b0fd352a",
   "metadata": {},
   "source": [
    "#### 1. Define Column Names"
   ]
  },
  {
   "cell_type": "code",
   "execution_count": 4,
   "id": "47e5e4fc",
   "metadata": {},
   "outputs": [],
   "source": [
    "# rename columns\n",
    "col = pd.read_csv(\"Metadata.csv\")\n",
    "col_cor = dict(zip(col[\"Variable\"], col[\"Definition\"]))\n",
    "loan = loan.rename(columns = col_cor)\n",
    "\n",
    "loan = loan.rename(columns = {\"Interest Rate on the loan\" : \"interest_rate\",\n",
    "                              \"A unique id for the loan.\" : \"loan_id\",\n",
    "                              \"A unique id assigned for the borrower.\" : \"borrower_id\",\n",
    "                              \"Loan amount requested\" : \"loan_amount_requested\",\n",
    "                              \"Loan amount funded\" : \"loan_amount_funded\",\n",
    "                              \"Investor-funded portion of loan\" : \"investor-funded_portion_of_loan\",\n",
    "                              \"Number of payments (36 or 60)\" : \"number_of_payments\",\n",
    "                              \"Loan grade\" : \"loan_grade\",\n",
    "                              \"Loan subgrade\" : \"loan_subgrade\",\n",
    "                              \"Employer or job title (self-filled)\" : \"employer/job_title\",\n",
    "                              \"Number of years employed (0 to 10; 10 = 10 or more)\" : \"years_employed\",\n",
    "                              \"Home ownership status: RENT, OWN, MORTGAGE, OTHER.\" : \"home_ownership_status\",\n",
    "                              \"Annual income of borrower\" : \"borrower's_annual_income\",\n",
    "                              \"Income verified, not verified, or income source was verified\" : \"income_verified\",\n",
    "                              \"Date loan was issued\" : \"issue_month\",\n",
    "                              \"Reason for loan provided by borrower\" : \"reason_for_borrowing\",\n",
    "                              \"Loan category, as provided by borrower\" : \"loan_category\",\n",
    "                              \"Loan title, as provided by borrower\" : \"loan_title\",\n",
    "                              \"First 3 numbers of zip code\" : \"zipcode_first3\",\n",
    "                              \"State of borrower\" : \"state_of_borrower\",\n",
    "                              \"A ratio calculated using the borrower�۪s total monthly debt payments on the total debt obligations, excluding mortgage and the requested loan, divided by the borrower�۪s self-reported monthly income.\" : \"debt_ratio\",\n",
    "                              \"The number of 30+ days past-due incidences of delinquency in the borrower's credit file for the past 2 years\" : \"num_of_past-dues\",\n",
    "                              \"Date the borrower's earliest reported credit line was opened\" : \"credit-line_open_date\",\n",
    "                              \"Number of inquiries by creditors during the past 6 months.\" : \"num_of_inquiries\",\n",
    "                              \"Number of months since the borrower's last delinquency.\" : \"month_since_last_delinquency\",\n",
    "                              \"Number of months since the last public record.\" : \"duration_of_public_record\",\n",
    "                              \"Number of open credit lines in the borrower's credit file.\" : \"open_credit-lines\",\n",
    "                              \"Number of derogatory public records\" : \"derogatory_records\",\n",
    "                              \"Total credit revolving balance\" : \"revolving_balance\",\n",
    "                              \"Revolving line utilization rate, or the amount of credit the borrower is using relative to all available revolving credit.\" : \"revolving_ratio\",\n",
    "                              \"The total number of credit lines currently in the borrower's credit file\" : \"total_credit-lines\",\n",
    "                              \"The initial listing status of the loan. Possible values are ��� W, F\" : \"initial_status\" })"
   ]
  },
  {
   "cell_type": "code",
   "execution_count": 5,
   "id": "77c6f593",
   "metadata": {},
   "outputs": [
    {
     "data": {
      "text/plain": [
       "Index(['interest_rate', 'loan_id', 'borrower_id', 'loan_amount_requested',\n",
       "       'loan_amount_funded', 'investor-funded_portion_of_loan',\n",
       "       'number_of_payments', 'loan_grade', 'loan_subgrade',\n",
       "       'employer/job_title', 'years_employed', 'home_ownership_status',\n",
       "       'borrower's_annual_income', 'income_verified', 'issue_month',\n",
       "       'reason_for_borrowing', 'loan_category', 'loan_title', 'zipcode_first3',\n",
       "       'state_of_borrower', 'debt_ratio', 'num_of_past-dues',\n",
       "       'credit-line_open_date', 'num_of_inquiries',\n",
       "       'month_since_last_delinquency', 'duration_of_public_record',\n",
       "       'open_credit-lines', 'derogatory_records', 'revolving_balance',\n",
       "       'revolving_ratio', 'total_credit-lines', 'initial_status'],\n",
       "      dtype='object')"
      ]
     },
     "execution_count": 5,
     "metadata": {},
     "output_type": "execute_result"
    }
   ],
   "source": [
    "loan.columns"
   ]
  },
  {
   "cell_type": "markdown",
   "id": "a6d708d3",
   "metadata": {},
   "source": [
    "#### 2. Drop Duplicated Features"
   ]
  },
  {
   "cell_type": "markdown",
   "id": "de30dbf0",
   "metadata": {},
   "source": [
    "Assume that **loan_id** and **borrower_id**, and **credit-line_open_date** has little predictive power to interest rate. Drop them."
   ]
  },
  {
   "cell_type": "code",
   "execution_count": 6,
   "id": "21311c7c",
   "metadata": {},
   "outputs": [],
   "source": [
    "# drop loan_id, borrower_id\n",
    "loan = loan.drop(columns=[\"loan_id\", \"borrower_id\", \"credit-line_open_date\"])"
   ]
  },
  {
   "cell_type": "markdown",
   "id": "223d8e22",
   "metadata": {},
   "source": [
    "**loan_grade** is a subset of **loan_subgrade** and two variables are repetitive. Keep only the more informative one - **loan_subgrade**, because different loan_subgrades may result in different interest rates."
   ]
  },
  {
   "cell_type": "code",
   "execution_count": 7,
   "id": "5afcae27",
   "metadata": {},
   "outputs": [],
   "source": [
    "# drop loan_grade\n",
    "loan = loan.drop(columns=[\"loan_grade\"])"
   ]
  },
  {
   "cell_type": "markdown",
   "id": "2d1a723f",
   "metadata": {},
   "source": [
    "**loan_title** has 61,630 unique values (~15% of the total data), each of which is irregular. Meanwhile, **loan_category** has 14 unique values and the contents are as intuitive as loan_title. Thus drop loan_title."
   ]
  },
  {
   "cell_type": "code",
   "execution_count": 8,
   "id": "a22bd8cb",
   "metadata": {},
   "outputs": [],
   "source": [
    "# drop loan_grade\n",
    "loan = loan.drop(columns=[\"loan_title\"])"
   ]
  },
  {
   "cell_type": "markdown",
   "id": "45310727",
   "metadata": {},
   "source": [
    "**reason_for_borrowing** needs text processing, which will not be covered for this exercise. **loan_category** reveals similar information to this variable."
   ]
  },
  {
   "cell_type": "code",
   "execution_count": 9,
   "id": "cbcdf641",
   "metadata": {},
   "outputs": [],
   "source": [
    "# drop loan_grade\n",
    "loan = loan.drop(columns=[\"reason_for_borrowing\"])"
   ]
  },
  {
   "cell_type": "markdown",
   "id": "adf45f57",
   "metadata": {},
   "source": [
    "**First three digits of zip code** gives more granularity on area but its distribution also becomes more skewed. For this reason, keep **state_of_borrower** instead. "
   ]
  },
  {
   "cell_type": "code",
   "execution_count": 10,
   "id": "f460b628",
   "metadata": {},
   "outputs": [],
   "source": [
    "# drop zipcode\n",
    "loan = loan.drop(columns=[\"zipcode_first3\"])"
   ]
  },
  {
   "cell_type": "markdown",
   "id": "2b2c6a25",
   "metadata": {},
   "source": [
    "**duration_of_public_record** has ~87% missing values. Drop the column."
   ]
  },
  {
   "cell_type": "code",
   "execution_count": 11,
   "id": "5ef9d825",
   "metadata": {},
   "outputs": [],
   "source": [
    "# drop duration_of_public_record\n",
    "loan = loan.drop(columns=[\"duration_of_public_record\"])"
   ]
  },
  {
   "cell_type": "markdown",
   "id": "61ea297e",
   "metadata": {},
   "source": [
    "**open_credit-lines** and **total_credit-lines** are all about credit lines owned by borrower. Keep only the former variable, which records most recent information."
   ]
  },
  {
   "cell_type": "code",
   "execution_count": 12,
   "id": "a8193d55",
   "metadata": {},
   "outputs": [],
   "source": [
    "# drop total_credit-lines\n",
    "loan = loan.drop(columns=[\"total_credit-lines\"])"
   ]
  },
  {
   "cell_type": "code",
   "execution_count": 13,
   "id": "f3761dd3",
   "metadata": {},
   "outputs": [
    {
     "data": {
      "text/plain": [
       "(400000, 23)"
      ]
     },
     "execution_count": 13,
     "metadata": {},
     "output_type": "execute_result"
    }
   ],
   "source": [
    "loan.shape"
   ]
  },
  {
   "cell_type": "markdown",
   "id": "3463ed01",
   "metadata": {},
   "source": [
    "#### 3. Correct Data Types"
   ]
  },
  {
   "cell_type": "code",
   "execution_count": 14,
   "id": "964a749c",
   "metadata": {},
   "outputs": [
    {
     "data": {
      "text/html": [
       "<div>\n",
       "<style scoped>\n",
       "    .dataframe tbody tr th:only-of-type {\n",
       "        vertical-align: middle;\n",
       "    }\n",
       "\n",
       "    .dataframe tbody tr th {\n",
       "        vertical-align: top;\n",
       "    }\n",
       "\n",
       "    .dataframe thead th {\n",
       "        text-align: right;\n",
       "    }\n",
       "</style>\n",
       "<table border=\"1\" class=\"dataframe\">\n",
       "  <thead>\n",
       "    <tr style=\"text-align: right;\">\n",
       "      <th></th>\n",
       "      <th>interest_rate</th>\n",
       "      <th>loan_amount_requested</th>\n",
       "      <th>loan_amount_funded</th>\n",
       "      <th>investor-funded_portion_of_loan</th>\n",
       "      <th>number_of_payments</th>\n",
       "      <th>loan_subgrade</th>\n",
       "      <th>employer/job_title</th>\n",
       "      <th>years_employed</th>\n",
       "      <th>home_ownership_status</th>\n",
       "      <th>borrower's_annual_income</th>\n",
       "      <th>income_verified</th>\n",
       "      <th>issue_month</th>\n",
       "      <th>loan_category</th>\n",
       "      <th>state_of_borrower</th>\n",
       "      <th>debt_ratio</th>\n",
       "      <th>num_of_past-dues</th>\n",
       "      <th>num_of_inquiries</th>\n",
       "      <th>month_since_last_delinquency</th>\n",
       "      <th>open_credit-lines</th>\n",
       "      <th>derogatory_records</th>\n",
       "      <th>revolving_balance</th>\n",
       "      <th>revolving_ratio</th>\n",
       "      <th>initial_status</th>\n",
       "    </tr>\n",
       "  </thead>\n",
       "  <tbody>\n",
       "    <tr>\n",
       "      <th>0</th>\n",
       "      <td>11.89%</td>\n",
       "      <td>$25,000</td>\n",
       "      <td>$25,000</td>\n",
       "      <td>$19,080</td>\n",
       "      <td>36 months</td>\n",
       "      <td>B4</td>\n",
       "      <td>NaN</td>\n",
       "      <td>&lt; 1 year</td>\n",
       "      <td>RENT</td>\n",
       "      <td>85000.0</td>\n",
       "      <td>VERIFIED - income</td>\n",
       "      <td>Aug-09</td>\n",
       "      <td>debt_consolidation</td>\n",
       "      <td>CA</td>\n",
       "      <td>19.48</td>\n",
       "      <td>0.0</td>\n",
       "      <td>0.0</td>\n",
       "      <td>NaN</td>\n",
       "      <td>10.0</td>\n",
       "      <td>0.0</td>\n",
       "      <td>28854.0</td>\n",
       "      <td>52.10%</td>\n",
       "      <td>f</td>\n",
       "    </tr>\n",
       "    <tr>\n",
       "      <th>1</th>\n",
       "      <td>10.71%</td>\n",
       "      <td>$7,000</td>\n",
       "      <td>$7,000</td>\n",
       "      <td>$673</td>\n",
       "      <td>36 months</td>\n",
       "      <td>B5</td>\n",
       "      <td>CNN</td>\n",
       "      <td>&lt; 1 year</td>\n",
       "      <td>RENT</td>\n",
       "      <td>65000.0</td>\n",
       "      <td>not verified</td>\n",
       "      <td>May-08</td>\n",
       "      <td>credit_card</td>\n",
       "      <td>NY</td>\n",
       "      <td>14.29</td>\n",
       "      <td>0.0</td>\n",
       "      <td>0.0</td>\n",
       "      <td>NaN</td>\n",
       "      <td>7.0</td>\n",
       "      <td>0.0</td>\n",
       "      <td>33623.0</td>\n",
       "      <td>76.70%</td>\n",
       "      <td>f</td>\n",
       "    </tr>\n",
       "    <tr>\n",
       "      <th>2</th>\n",
       "      <td>16.99%</td>\n",
       "      <td>$25,000</td>\n",
       "      <td>$25,000</td>\n",
       "      <td>$24,725</td>\n",
       "      <td>36 months</td>\n",
       "      <td>D3</td>\n",
       "      <td>Web Programmer</td>\n",
       "      <td>1 year</td>\n",
       "      <td>RENT</td>\n",
       "      <td>70000.0</td>\n",
       "      <td>VERIFIED - income</td>\n",
       "      <td>Aug-14</td>\n",
       "      <td>debt_consolidation</td>\n",
       "      <td>NY</td>\n",
       "      <td>10.50</td>\n",
       "      <td>0.0</td>\n",
       "      <td>0.0</td>\n",
       "      <td>41.0</td>\n",
       "      <td>10.0</td>\n",
       "      <td>0.0</td>\n",
       "      <td>19878.0</td>\n",
       "      <td>66.30%</td>\n",
       "      <td>f</td>\n",
       "    </tr>\n",
       "    <tr>\n",
       "      <th>3</th>\n",
       "      <td>13.11%</td>\n",
       "      <td>$1,200</td>\n",
       "      <td>$1,200</td>\n",
       "      <td>$1,200</td>\n",
       "      <td>36 months</td>\n",
       "      <td>C2</td>\n",
       "      <td>city of beaumont texas</td>\n",
       "      <td>10+ years</td>\n",
       "      <td>OWN</td>\n",
       "      <td>54000.0</td>\n",
       "      <td>not verified</td>\n",
       "      <td>Mar-10</td>\n",
       "      <td>debt_consolidation</td>\n",
       "      <td>TX</td>\n",
       "      <td>5.47</td>\n",
       "      <td>0.0</td>\n",
       "      <td>0.0</td>\n",
       "      <td>64.0</td>\n",
       "      <td>5.0</td>\n",
       "      <td>0.0</td>\n",
       "      <td>2584.0</td>\n",
       "      <td>40.40%</td>\n",
       "      <td>f</td>\n",
       "    </tr>\n",
       "    <tr>\n",
       "      <th>4</th>\n",
       "      <td>13.57%</td>\n",
       "      <td>$10,800</td>\n",
       "      <td>$10,800</td>\n",
       "      <td>$10,692</td>\n",
       "      <td>36 months</td>\n",
       "      <td>C3</td>\n",
       "      <td>State Farm Insurance</td>\n",
       "      <td>6 years</td>\n",
       "      <td>RENT</td>\n",
       "      <td>32000.0</td>\n",
       "      <td>not verified</td>\n",
       "      <td>Nov-09</td>\n",
       "      <td>debt_consolidation</td>\n",
       "      <td>CT</td>\n",
       "      <td>11.63</td>\n",
       "      <td>0.0</td>\n",
       "      <td>1.0</td>\n",
       "      <td>58.0</td>\n",
       "      <td>14.0</td>\n",
       "      <td>0.0</td>\n",
       "      <td>3511.0</td>\n",
       "      <td>25.60%</td>\n",
       "      <td>f</td>\n",
       "    </tr>\n",
       "  </tbody>\n",
       "</table>\n",
       "</div>"
      ],
      "text/plain": [
       "  interest_rate loan_amount_requested loan_amount_funded  \\\n",
       "0        11.89%               $25,000            $25,000   \n",
       "1        10.71%                $7,000             $7,000   \n",
       "2        16.99%               $25,000            $25,000   \n",
       "3        13.11%                $1,200             $1,200   \n",
       "4        13.57%               $10,800            $10,800   \n",
       "\n",
       "  investor-funded_portion_of_loan number_of_payments loan_subgrade  \\\n",
       "0                         $19,080          36 months            B4   \n",
       "1                            $673          36 months            B5   \n",
       "2                         $24,725          36 months            D3   \n",
       "3                          $1,200          36 months            C2   \n",
       "4                         $10,692          36 months            C3   \n",
       "\n",
       "       employer/job_title years_employed home_ownership_status  \\\n",
       "0                     NaN       < 1 year                  RENT   \n",
       "1                     CNN       < 1 year                  RENT   \n",
       "2          Web Programmer         1 year                  RENT   \n",
       "3  city of beaumont texas      10+ years                   OWN   \n",
       "4    State Farm Insurance        6 years                  RENT   \n",
       "\n",
       "   borrower's_annual_income    income_verified issue_month  \\\n",
       "0                   85000.0  VERIFIED - income      Aug-09   \n",
       "1                   65000.0       not verified      May-08   \n",
       "2                   70000.0  VERIFIED - income      Aug-14   \n",
       "3                   54000.0       not verified      Mar-10   \n",
       "4                   32000.0       not verified      Nov-09   \n",
       "\n",
       "        loan_category state_of_borrower  debt_ratio  num_of_past-dues  \\\n",
       "0  debt_consolidation                CA       19.48               0.0   \n",
       "1         credit_card                NY       14.29               0.0   \n",
       "2  debt_consolidation                NY       10.50               0.0   \n",
       "3  debt_consolidation                TX        5.47               0.0   \n",
       "4  debt_consolidation                CT       11.63               0.0   \n",
       "\n",
       "   num_of_inquiries  month_since_last_delinquency  open_credit-lines  \\\n",
       "0               0.0                           NaN               10.0   \n",
       "1               0.0                           NaN                7.0   \n",
       "2               0.0                          41.0               10.0   \n",
       "3               0.0                          64.0                5.0   \n",
       "4               1.0                          58.0               14.0   \n",
       "\n",
       "   derogatory_records  revolving_balance revolving_ratio initial_status  \n",
       "0                 0.0            28854.0          52.10%              f  \n",
       "1                 0.0            33623.0          76.70%              f  \n",
       "2                 0.0            19878.0          66.30%              f  \n",
       "3                 0.0             2584.0          40.40%              f  \n",
       "4                 0.0             3511.0          25.60%              f  "
      ]
     },
     "execution_count": 14,
     "metadata": {},
     "output_type": "execute_result"
    }
   ],
   "source": [
    "pd.set_option('display.max_columns', None)\n",
    "loan.head()"
   ]
  },
  {
   "cell_type": "code",
   "execution_count": 15,
   "id": "57bac1df",
   "metadata": {},
   "outputs": [],
   "source": [
    "# interest_rate: change label to natural number\n",
    "loan[\"interest_rate\"] = loan[\"interest_rate\"].str.replace(\"%\", \"\")\n",
    "loan[\"interest_rate\"] = loan[\"interest_rate\"].astype(dtype=\"float64\")"
   ]
  },
  {
   "cell_type": "code",
   "execution_count": 16,
   "id": "2e12a2af",
   "metadata": {},
   "outputs": [],
   "source": [
    "# loan_amount_requested: str to float\n",
    "loan[\"loan_amount_requested\"] = loan[\"loan_amount_requested\"].str.replace(\"\\$\", \"\", regex=True).replace(\",\", \"\", regex=True)\n",
    "loan[\"loan_amount_requested\"] = loan[\"loan_amount_requested\"].astype(dtype=\"float\")\n",
    "\n",
    "# loan_amount_funded: str to float\n",
    "loan[\"loan_amount_funded\"] = loan[\"loan_amount_funded\"].str.replace(\"\\$\", \"\", regex=True).replace(\",\", \"\", regex=True)\n",
    "loan[\"loan_amount_funded\"] = loan[\"loan_amount_funded\"].astype(dtype=\"float\")\n",
    "\n",
    "# investor-funded_portion_of_loan: str to float\n",
    "loan[\"investor-funded_portion_of_loan\"] = loan[\"investor-funded_portion_of_loan\"].str.replace(\"\\$\", \"\", regex=True).replace(\",\", \"\", regex=True)\n",
    "loan[\"investor-funded_portion_of_loan\"] = loan[\"investor-funded_portion_of_loan\"].astype(dtype=\"float\")\n",
    "\n",
    "# number_of_payments: str to float\n",
    "loan[\"number_of_payments\"] = loan[\"number_of_payments\"].str.replace(\" months\", \"\", regex=True)\n",
    "loan[\"number_of_payments\"] = loan[\"number_of_payments\"].astype(dtype=\"float\")\n",
    "\n",
    "# years_employed: str to float\n",
    "loan[\"years_employed\"] = loan[\"years_employed\"].str.replace(\" years\", \"\", regex=True).replace(\" year\", \"\", regex=True).replace(\"< 1\", \"0\", regex=True)\n",
    "loan[\"years_employed\"] = loan[\"years_employed\"].replace(\"10\\+\", \"10\", regex=True)\n",
    "loan[\"years_employed\"] = loan[\"years_employed\"].astype(dtype=\"float\")\n"
   ]
  },
  {
   "cell_type": "code",
   "execution_count": 17,
   "id": "ae531666",
   "metadata": {},
   "outputs": [],
   "source": [
    "# income_verified: str to dummy\n",
    "loan[\"income_verified\"] = loan[\"income_verified\"].str.replace(\"VERIFIED - income\", \"verified\", regex=True).replace(\"VERIFIED - income source\", \"verified\", regex=True)\n",
    "loan[\"income_verified\"] = loan[\"income_verified\"].apply(lambda x: 1 if x==\"verified\" else 0)\n",
    "\n",
    "# loan_subgrade: str to ordinary \n",
    "scale_mapper = {\"A1\":35, \"A2\":34, \"A3\":33, \"A4\":32, \"A5\":31,\n",
    "                \"B1\":30, \"B2\":29, \"B3\":28, \"B4\":27, \"B5\":26,\n",
    "                \"C1\":25, \"C2\":24, \"C3\":23, \"C4\":22, \"C5\":21,\n",
    "                \"D1\":20, \"D2\":19, \"D3\":18, \"D4\":17, \"D5\":16,\n",
    "                \"E1\":15, \"E2\":14, \"E3\":13, \"E4\":12, \"E5\":11,\n",
    "                \"F1\":10, \"F2\":9, \"F3\":8, \"F4\":7, \"F5\":6,\n",
    "                \"G1\":5, \"G2\":4, \"G3\":3, \"G4\":2, \"G5\":1,}\n",
    "loan[\"loan_subgrade\"] = loan[\"loan_subgrade\"].replace(scale_mapper)\n",
    "\n",
    "# loan_category: str to dummies (keep the top two classes: debt_consolidation & credit_card)\n",
    "loan[\"loan_for_debt_consolidation\"] = loan[\"loan_category\"].apply(lambda x: 1 if x == \"debt_consolidation\" else 0)\n",
    "loan[\"loan_for_credit_card\"] = loan[\"loan_category\"].apply(lambda x: 1 if x == \"credit_card\" else 0)\n",
    "loan = loan.drop(columns=[\"loan_category\"])\n"
   ]
  },
  {
   "cell_type": "markdown",
   "id": "094e18b8",
   "metadata": {},
   "source": [
    "There is one record wiht **home_ownership_status** being \"ANY,\" which does not make sense and could be an recording error."
   ]
  },
  {
   "cell_type": "code",
   "execution_count": 18,
   "id": "52bc8677",
   "metadata": {},
   "outputs": [],
   "source": [
    "# drop exceptional row\n",
    "ex = loan[loan[\"home_ownership_status\"]==\"ANY\"]\n",
    "loan = loan.drop(ex.index)\n",
    "\n",
    "# home_ownership_status: str to dummies (keep the top two classes: MORTGAGE & RENT) \n",
    "loan[\"home_is_MORTGAGE\"] = loan[\"home_ownership_status\"].apply(lambda x: 1 if x == \"MORTGAGE\" else 0)\n",
    "loan[\"home_is_RENT\"] = loan[\"home_ownership_status\"].apply(lambda x: 1 if x == \"RENT\" else 0)\n",
    "loan = loan.drop(columns=[\"home_ownership_status\"])\n"
   ]
  },
  {
   "cell_type": "code",
   "execution_count": 19,
   "id": "0daab8e3",
   "metadata": {},
   "outputs": [],
   "source": [
    "# issue_date: convert date to 'how many months from now'\n",
    "cur_date = pd.to_datetime(\"today\")\n",
    "loan[\"issue_month\"] = pd.to_datetime(loan[\"issue_month\"], format='%b-%y')\n",
    "loan[\"issue_month\"] = (cur_date - loan[\"issue_month\"]) / np.timedelta64(1, 'M')\n",
    "loan[\"issue_month\"] = loan[\"issue_month\"].round().astype(float)\n"
   ]
  },
  {
   "cell_type": "code",
   "execution_count": 20,
   "id": "cbc59376",
   "metadata": {},
   "outputs": [],
   "source": [
    "# revolving_ratio: str to float\n",
    "loan[\"revolving_ratio\"] = loan[\"revolving_ratio\"].str.replace(\"%\", \"\")\n",
    "loan[\"revolving_ratio\"] = loan[\"revolving_ratio\"].astype(dtype=\"float\")\n",
    "\n",
    "# initial_status: binary to dummy \n",
    "loan[\"initial_status\"] = loan[\"initial_status\"].apply(lambda x: 1 if x==\"f\" else (0 if x==\"w\" else np.nan))\n",
    "loan = loan.rename(columns={\"initial_status\":\"initial_status_is_f\"})"
   ]
  },
  {
   "cell_type": "markdown",
   "id": "b1ccafb6",
   "metadata": {},
   "source": [
    "#### 4. Deal with Missing Values"
   ]
  },
  {
   "cell_type": "markdown",
   "id": "89597f98",
   "metadata": {},
   "source": [
    "Target: The output variable **interest_rate** has ~15% missing values. Targets have to be 100% pure, thus **drop** missing values. "
   ]
  },
  {
   "cell_type": "code",
   "execution_count": 21,
   "id": "7d18617e",
   "metadata": {},
   "outputs": [],
   "source": [
    "loan = loan.dropna(subset=[\"interest_rate\"])  # interest_rate has 338990 non-null's"
   ]
  },
  {
   "cell_type": "markdown",
   "id": "47926821",
   "metadata": {},
   "source": [
    "Row **364111** has NaN values in all columns except interest_rate. Instead of interpolate values to make up an record for the specific interest rate, I will drop the row. This will fix all those features that has one missing value, namely the one from No. 364111."
   ]
  },
  {
   "cell_type": "code",
   "execution_count": 22,
   "id": "83a16120",
   "metadata": {},
   "outputs": [],
   "source": [
    "# drop a row with empty feature values\n",
    "loan = loan.drop(364111)"
   ]
  },
  {
   "cell_type": "markdown",
   "id": "324eea68",
   "metadata": {},
   "source": [
    "Change **month_since_last_delinquency** into a dummy variable, showing if the borrower has delinquency records or not. We assume that nan values means the borrower hasn't had delinquency."
   ]
  },
  {
   "cell_type": "code",
   "execution_count": 23,
   "id": "89c80506",
   "metadata": {},
   "outputs": [
    {
     "data": {
      "text/plain": [
       "<seaborn.axisgrid.PairGrid at 0x7f7b664f0a60>"
      ]
     },
     "execution_count": 23,
     "metadata": {},
     "output_type": "execute_result"
    },
    {
     "data": {
      "image/png": "[encoded data removed]",
      "text/plain": [
       "<Figure size 180x180 with 1 Axes>"
      ]
     },
     "metadata": {
      "needs_background": "light"
     },
     "output_type": "display_data"
    }
   ],
   "source": [
    "# month_since_last_delinquency: month to dummy variable\n",
    "loan[\"month_since_last_delinquency\"] = loan[\"month_since_last_delinquency\"].apply(lambda x: 0 if np.isnan(x) else 1)\n",
    "loan = loan.rename(columns={\"month_since_last_delinquency\" : \"had_delinquency\"})\n",
    "\n",
    "# check contribution of the variable to interest rate\n",
    "i = sns.PairGrid(data=loan, x_vars=[\"had_delinquency\"], y_vars=[\"interest_rate\"])\n",
    "i.map(sns.pointplot)"
   ]
  },
  {
   "cell_type": "markdown",
   "id": "b84cd235",
   "metadata": {},
   "source": [
    "**revolving_ratio** has several outliers, I'll replace them as well as missing values with mean. Since there are huge sample compared to outliers, mean will not affected by them in a substantial degree. Thus, we'll use sample mean that includes the outliers. "
   ]
  },
  {
   "cell_type": "code",
   "execution_count": 24,
   "id": "69a0dcec",
   "metadata": {},
   "outputs": [
    {
     "data": {
      "text/plain": [
       "<AxesSubplot:xlabel='revolving_ratio'>"
      ]
     },
     "execution_count": 24,
     "metadata": {},
     "output_type": "execute_result"
    },
    {
     "data": {
      "image/png": "[encoded data removed]",
      "text/plain": [
       "<Figure size 432x288 with 1 Axes>"
      ]
     },
     "metadata": {
      "needs_background": "light"
     },
     "output_type": "display_data"
    }
   ],
   "source": [
    "# check outliers\n",
    "sns.boxenplot(data=loan, x=\"revolving_ratio\")\n"
   ]
  },
  {
   "cell_type": "code",
   "execution_count": 25,
   "id": "25f83bfb",
   "metadata": {},
   "outputs": [],
   "source": [
    "# revolving_ratio: replace two outliers and missing values with mean\n",
    "loan.loc[loan[\"revolving_ratio\"]>100,'revolving_ratio'] = loan[\"revolving_ratio\"].mean()\n",
    "loan[\"revolving_ratio\"].fillna(value=loan[\"revolving_ratio\"].mean(), inplace=True)\n"
   ]
  },
  {
   "cell_type": "markdown",
   "id": "c5dd8ede",
   "metadata": {},
   "source": [
    "**employer/job_title** has 163396 (~48%) unique values. Encode it as a binary variable that indiciate whether the borrower is employed or not."
   ]
  },
  {
   "cell_type": "code",
   "execution_count": 26,
   "id": "6bba3da5",
   "metadata": {},
   "outputs": [],
   "source": [
    "# employer/job_title: categorical to dummy\n",
    "loan[\"employer/job_title\"] = loan[\"employer/job_title\"].apply(lambda x: 0 if pd.isnull(x) else 1)\n",
    "loan = loan.rename(columns={\"employer/job_title\" : \"is_employed\"})"
   ]
  },
  {
   "cell_type": "code",
   "execution_count": 27,
   "id": "e071b376",
   "metadata": {},
   "outputs": [
    {
     "data": {
      "text/plain": [
       "<seaborn.axisgrid.PairGrid at 0x7f7b65c41580>"
      ]
     },
     "execution_count": 27,
     "metadata": {},
     "output_type": "execute_result"
    },
    {
     "data": {
      "image/png": "[encoded data removed]",
      "text/plain": [
       "<Figure size 180x180 with 1 Axes>"
      ]
     },
     "metadata": {
      "needs_background": "light"
     },
     "output_type": "display_data"
    }
   ],
   "source": [
    "# check relationship between the variable and interest rate\n",
    "i = sns.PairGrid(data=loan, x_vars=[\"is_employed\"], y_vars=[\"interest_rate\"])\n",
    "i.map(sns.pointplot)"
   ]
  },
  {
   "cell_type": "markdown",
   "id": "2856ac40",
   "metadata": {},
   "source": [
    "Interest rates are extremely similar across all employment lengths. So we are going to drop the **years_employed** column."
   ]
  },
  {
   "cell_type": "code",
   "execution_count": 28,
   "id": "d954dec0",
   "metadata": {},
   "outputs": [
    {
     "data": {
      "text/plain": [
       "<AxesSubplot:xlabel='years_employed', ylabel='interest_rate'>"
      ]
     },
     "execution_count": 28,
     "metadata": {},
     "output_type": "execute_result"
    },
    {
     "data": {
      "image/png": "[encoded data removed]",
      "text/plain": [
       "<Figure size 432x288 with 1 Axes>"
      ]
     },
     "metadata": {
      "needs_background": "light"
     },
     "output_type": "display_data"
    }
   ],
   "source": [
    "# check contribution of years_employed to interest_rate\n",
    "sns.scatterplot(data=loan, x=\"years_employed\", y=\"interest_rate\")"
   ]
  },
  {
   "cell_type": "code",
   "execution_count": 29,
   "id": "a6fb242a",
   "metadata": {},
   "outputs": [],
   "source": [
    "# drop years_employed\n",
    "loan = loan.drop(columns=[\"years_employed\"])"
   ]
  },
  {
   "cell_type": "markdown",
   "id": "c4d58765",
   "metadata": {},
   "source": [
    "Encode **state_of_borrower** into a dummy variable, indicating if the borrower comes from those states that have unusual interest rates."
   ]
  },
  {
   "cell_type": "code",
   "execution_count": 30,
   "id": "aa79edfb",
   "metadata": {},
   "outputs": [
    {
     "data": {
      "image/png": "[encoded data removed]",
      "text/plain": [
       "<Figure size 1296x360 with 1 Axes>"
      ]
     },
     "metadata": {
      "needs_background": "light"
     },
     "output_type": "display_data"
    }
   ],
   "source": [
    "# check contribution of state_of_borrower to interest_rate\n",
    "i = sns.PairGrid(data=loan, x_vars=[\"state_of_borrower\"], y_vars=[\"interest_rate\"])\n",
    "i.map(sns.pointplot)\n",
    "i.fig.set_size_inches(18,5)"
   ]
  },
  {
   "cell_type": "code",
   "execution_count": 31,
   "id": "881068e5",
   "metadata": {},
   "outputs": [],
   "source": [
    "# encode state_of_borrower into is_unusual_state\n",
    "states = [\"ME\", \"NE\", \"IA\", \"ID\"]\n",
    "loan[\"state_of_borrower\"] = loan[\"state_of_borrower\"].apply(lambda x: 1 if x in states else 0)\n",
    "loan = loan.rename(columns={\"state_of_borrower\" : \"is_unusual_state\"})"
   ]
  },
  {
   "cell_type": "markdown",
   "id": "378939da",
   "metadata": {},
   "source": [
    "**borrower's_annual_income** is positively skewed. Instead of using mean value, we'll use median to interpolate missing values. "
   ]
  },
  {
   "cell_type": "code",
   "execution_count": 32,
   "id": "3070cff8",
   "metadata": {},
   "outputs": [
    {
     "data": {
      "text/plain": [
       "<AxesSubplot:xlabel=\"borrower's_annual_income\">"
      ]
     },
     "execution_count": 32,
     "metadata": {},
     "output_type": "execute_result"
    },
    {
     "data": {
      "image/png": "[encoded data removed]",
      "text/plain": [
       "<Figure size 432x288 with 1 Axes>"
      ]
     },
     "metadata": {
      "needs_background": "light"
     },
     "output_type": "display_data"
    }
   ],
   "source": [
    "sns.boxenplot(data=loan, x=\"borrower\\'s_annual_income\")"
   ]
  },
  {
   "cell_type": "code",
   "execution_count": 33,
   "id": "e4b1e28b",
   "metadata": {},
   "outputs": [],
   "source": [
    "loan[\"borrower\\'s_annual_income\"] = loan.fillna(loan[\"borrower\\'s_annual_income\"].median())"
   ]
  },
  {
   "cell_type": "markdown",
   "id": "319d61f6",
   "metadata": {},
   "source": [
    "**loan_subgrade** is negatively skewed. Instead of using mean, use median to interpolate missing values. "
   ]
  },
  {
   "cell_type": "code",
   "execution_count": 34,
   "id": "3b9dcb38",
   "metadata": {},
   "outputs": [
    {
     "data": {
      "text/plain": [
       "<seaborn.axisgrid.FacetGrid at 0x7f7b4532b490>"
      ]
     },
     "execution_count": 34,
     "metadata": {},
     "output_type": "execute_result"
    },
    {
     "data": {
      "image/png": "[encoded data removed]",
      "text/plain": [
       "<Figure size 360x360 with 1 Axes>"
      ]
     },
     "metadata": {
      "needs_background": "light"
     },
     "output_type": "display_data"
    }
   ],
   "source": [
    "# check distribution\n",
    "sns.displot(data=loan, x=\"loan_subgrade\", kind=\"kde\")\n"
   ]
  },
  {
   "cell_type": "code",
   "execution_count": 35,
   "id": "e0c8daa6",
   "metadata": {},
   "outputs": [],
   "source": [
    "loan[\"loan_subgrade\"] = loan.fillna(loan[\"loan_subgrade\"].median())"
   ]
  },
  {
   "cell_type": "markdown",
   "id": "b13b9678",
   "metadata": {},
   "source": [
    "### Build Models"
   ]
  },
  {
   "cell_type": "markdown",
   "id": "1d7f2bef",
   "metadata": {},
   "source": [
    "I will build three models and pick the one with best performance (in term of root-mean-square error, RMSE): **linear regression**, **kernal svm - a non-linear regression method**, **random forest - a tree-based method**."
   ]
  },
  {
   "cell_type": "code",
   "execution_count": 36,
   "id": "4e0d4924",
   "metadata": {},
   "outputs": [],
   "source": [
    "# normalize\n",
    "from sklearn.preprocessing import StandardScaler\n",
    "from sklearn.preprocessing import Normalizer\n",
    "\n",
    "# models\n",
    "from sklearn.linear_model import LinearRegression\n",
    "from sklearn.svm import SVR\n",
    "from sklearn.ensemble import RandomForestRegressor\n",
    "\n",
    "# model evaluation\n",
    "from sklearn.metrics import mean_squared_error\n",
    "from sklearn.model_selection import cross_val_score\n"
   ]
  },
  {
   "cell_type": "code",
   "execution_count": 37,
   "id": "f5b313c5",
   "metadata": {},
   "outputs": [],
   "source": [
    "# prepare x and y\n",
    "X = loan.drop(columns=[\"interest_rate\"])\n",
    "y = loan[\"interest_rate\"]\n",
    "train_x, test_x, train_y, test_y = train_test_split(X, y, test_size=0.3)"
   ]
  },
  {
   "cell_type": "markdown",
   "id": "79e090e8",
   "metadata": {},
   "source": [
    "#### Linear Regression"
   ]
  },
  {
   "cell_type": "code",
   "execution_count": 38,
   "id": "2a3701af",
   "metadata": {},
   "outputs": [],
   "source": [
    "# standardized dataset\n",
    "scaler = StandardScaler()\n",
    "sd_loan = pd.DataFrame(data=scaler.fit_transform(loan),\n",
    "                       columns=loan.columns)\n",
    "\n",
    "sd_X = sd_loan.drop(columns=[\"interest_rate\"])\n",
    "sd_y = sd_loan[\"interest_rate\"]\n",
    "sd_train_x, sd_test_x, sd_train_y, sd_test_y = train_test_split(sd_X, sd_y, test_size=0.3)"
   ]
  },
  {
   "cell_type": "code",
   "execution_count": 39,
   "id": "fdb2cc88",
   "metadata": {},
   "outputs": [],
   "source": [
    "# fit model\n",
    "lr = LinearRegression()\n",
    "lr.fit(sd_train_x, sd_train_y)\n",
    "y_lr = lr.predict(sd_test_x)\n"
   ]
  },
  {
   "cell_type": "markdown",
   "id": "03b5bdda",
   "metadata": {},
   "source": [
    "Evaluate the model by comparing three RMSE's."
   ]
  },
  {
   "cell_type": "code",
   "execution_count": 40,
   "id": "30f9f525",
   "metadata": {},
   "outputs": [
    {
     "name": "stdout",
     "output_type": "stream",
     "text": [
      "Test set RMSE: 9.73659581065911e-15\n"
     ]
    }
   ],
   "source": [
    "# test\n",
    "test_rmse = mean_squared_error(sd_test_y, y_lr, squared=False)\n",
    "print(f\"Test set RMSE:\", test_rmse)"
   ]
  },
  {
   "cell_type": "code",
   "execution_count": 62,
   "id": "2b8e8df9",
   "metadata": {},
   "outputs": [
    {
     "name": "stdout",
     "output_type": "stream",
     "text": [
      "CV RMSE: 9.924954388357517e-15\n"
     ]
    }
   ],
   "source": [
    "# cv\n",
    "MSE_CV_scores = - cross_val_score(lr, sd_train_x, sd_train_y, cv=10, \n",
    "                                  scoring='neg_mean_squared_error', \n",
    "                                  n_jobs=-1) \n",
    "RMSE_CV = (MSE_CV_scores.mean())**(1/2)\n",
    "print(f\"CV RMSE:\", RMSE_CV)\n"
   ]
  },
  {
   "cell_type": "code",
   "execution_count": 42,
   "id": "9be00fb7",
   "metadata": {},
   "outputs": [
    {
     "name": "stdout",
     "output_type": "stream",
     "text": [
      "Training set RMSE: 9.757112199498739e-15\n"
     ]
    }
   ],
   "source": [
    "# train\n",
    "RMSE_train = (mean_squared_error(sd_train_y, lr.predict(sd_train_x)))**(1/2)\n",
    "print(f\"Training set RMSE:\",RMSE_train)"
   ]
  },
  {
   "cell_type": "markdown",
   "id": "bb3454de",
   "metadata": {},
   "source": [
    "#### SVM Regression"
   ]
  },
  {
   "cell_type": "code",
   "execution_count": 43,
   "id": "c66a9e42",
   "metadata": {},
   "outputs": [],
   "source": [
    "# normalized dataset\n",
    "scaler = Normalizer()\n",
    "nm_loan = pd.DataFrame(data=scaler.fit_transform(loan),\n",
    "                       columns=loan.columns)\n",
    "\n",
    "nm_X = nm_loan.drop(columns=[\"interest_rate\"])\n",
    "nm_y = nm_loan[\"interest_rate\"]\n",
    "nm_train_x, nm_test_x, nm_train_y, nm_test_y = train_test_split(nm_X, nm_y, test_size=0.3)"
   ]
  },
  {
   "cell_type": "code",
   "execution_count": 44,
   "id": "84f38ffb",
   "metadata": {},
   "outputs": [],
   "source": [
    "# fit and score SVM model\n",
    "sv = SVR(kernel=\"rbf\", gamma=0.7)\n",
    "sv.fit(nm_train_x, nm_train_y)\n",
    "y_sv = sv.predict(nm_test_x)\n"
   ]
  },
  {
   "cell_type": "markdown",
   "id": "f08d54ab",
   "metadata": {},
   "source": [
    "Evaluate the model by comparing three RMSE's."
   ]
  },
  {
   "cell_type": "code",
   "execution_count": 45,
   "id": "c9b7da3c",
   "metadata": {},
   "outputs": [
    {
     "name": "stdout",
     "output_type": "stream",
     "text": [
      "Test set RMSE: 0.00611066290814307\n"
     ]
    }
   ],
   "source": [
    "# test\n",
    "test_rmse = mean_squared_error(nm_test_y, y_sv, squared=False)\n",
    "print(f\"Test set RMSE:\", test_rmse)"
   ]
  },
  {
   "cell_type": "code",
   "execution_count": 46,
   "id": "a8c35ff0",
   "metadata": {},
   "outputs": [
    {
     "name": "stdout",
     "output_type": "stream",
     "text": [
      "CV RMSE: 0.006094321657728385\n"
     ]
    }
   ],
   "source": [
    "# cv\n",
    "cv_mse_scores = - cross_val_score(sv, nm_train_x, nm_train_y, cv=10, \n",
    "                                  scoring='neg_mean_squared_error', \n",
    "                                  n_jobs=-1) \n",
    "cv_rmse = (cv_mse_scores.mean())**(1/2)\n",
    "print(f\"CV RMSE:\",cv_rmse)"
   ]
  },
  {
   "cell_type": "code",
   "execution_count": 47,
   "id": "2b86eafa",
   "metadata": {},
   "outputs": [
    {
     "name": "stdout",
     "output_type": "stream",
     "text": [
      "Train set RMSE: 3.51330303510187e-15\n"
     ]
    }
   ],
   "source": [
    "# train\n",
    "train_rmse = (mean_squared_error(nm_train_y, lr.predict(nm_train_x)))**(1/2)\n",
    "print(f\"Train set RMSE:\",train_rmse)"
   ]
  },
  {
   "cell_type": "markdown",
   "id": "f836e2e4",
   "metadata": {},
   "source": [
    "#### Random Forest Regression"
   ]
  },
  {
   "cell_type": "markdown",
   "id": "13c4adbc",
   "metadata": {},
   "source": [
    "No normalization or standardization required."
   ]
  },
  {
   "cell_type": "code",
   "execution_count": 48,
   "id": "60aeedee",
   "metadata": {},
   "outputs": [],
   "source": [
    "# prepare x and y\n",
    "X = loan.drop(columns=[\"interest_rate\"])\n",
    "y = loan[\"interest_rate\"]\n",
    "train_x, test_x, train_y, test_y = train_test_split(X, y, test_size=0.3)"
   ]
  },
  {
   "cell_type": "code",
   "execution_count": 49,
   "id": "300607ab",
   "metadata": {},
   "outputs": [],
   "source": [
    "# fit and score Random Forest model\n",
    "rfr = RandomForestRegressor()\n",
    "rfr.fit(train_x, train_y)\n",
    "y_rfr = rfr.predict(test_x)\n"
   ]
  },
  {
   "cell_type": "markdown",
   "id": "65ab6bb3",
   "metadata": {},
   "source": [
    "Evaluate the model by comparing three RMSE's."
   ]
  },
  {
   "cell_type": "code",
   "execution_count": 50,
   "id": "5515e760",
   "metadata": {},
   "outputs": [
    {
     "name": "stdout",
     "output_type": "stream",
     "text": [
      "Test set RMSE: 0.0003849665681353412\n"
     ]
    }
   ],
   "source": [
    "# test\n",
    "test_rmse = mean_squared_error(test_y, y_rfr, squared=False)\n",
    "print(f\"Test set RMSE:\", test_rmse)"
   ]
  },
  {
   "cell_type": "code",
   "execution_count": 51,
   "id": "e70dcc7b",
   "metadata": {},
   "outputs": [
    {
     "name": "stdout",
     "output_type": "stream",
     "text": [
      "CV RMSE: 0.000565786719285204\n"
     ]
    }
   ],
   "source": [
    "# cv\n",
    "cv_mse_scores = - cross_val_score(rfr, train_x, train_y, cv=10, \n",
    "                                  scoring='neg_mean_squared_error', \n",
    "                                  n_jobs=-1) \n",
    "cv_rmse = (cv_mse_scores.mean())**(1/2)\n",
    "print(f\"CV RMSE:\",cv_rmse)"
   ]
  },
  {
   "cell_type": "code",
   "execution_count": 52,
   "id": "1ac45866",
   "metadata": {},
   "outputs": [
    {
     "name": "stdout",
     "output_type": "stream",
     "text": [
      "Train set RMSE: 1.2127412594046032e-10\n"
     ]
    }
   ],
   "source": [
    "# train\n",
    "train_rmse = (mean_squared_error(train_y, lr.predict(train_x)))**(1/2)\n",
    "print(f\"Train set RMSE:\",train_rmse)"
   ]
  },
  {
   "cell_type": "markdown",
   "id": "9350ef98",
   "metadata": {},
   "source": [
    "### Write-Up\n",
    "\n",
    "Both **SVM Regression** and **Random Forest Regression** *overfit* the data, even after hyperparameter tuning. This is shown by the fact that their integrated RMSE value on 10-fold's dataset is much larger than the RMSE of training dataset. This means that both algorithm does much better on training set than it does on unseen datasets. On the other hand, **Linear Regression** has less potential to overfit.\n",
    "\n",
    "A disadvantage of **Linear Ression** is that it *cannot capture the non-linear relationship* between predictors and target. In this case, we see that CV RMSE is similar to RMSE on testing dataset and the model does not show a sign of underfitting. We may assume that there is a linear relationship between the predictors and interest rate and Linear Regression seems to be a good model for predicting interest rate. If so, Linear Regression also tells importance of each feature, known as *high interpreterbility*."
   ]
  },
  {
   "cell_type": "markdown",
   "id": "c00c0ae4",
   "metadata": {},
   "source": [
    "## Output Prediction"
   ]
  },
  {
   "cell_type": "markdown",
   "id": "49f9aeab",
   "metadata": {},
   "source": [
    "Preprocess testing data"
   ]
  },
  {
   "cell_type": "code",
   "execution_count": 53,
   "id": "124ab6db",
   "metadata": {},
   "outputs": [],
   "source": [
    "# load data\n",
    "df = pd.read_csv(\"Holdout for Testing.csv\", dtype={'X15': object})"
   ]
  },
  {
   "cell_type": "code",
   "execution_count": 54,
   "id": "49c92ab4",
   "metadata": {},
   "outputs": [],
   "source": [
    "# rename columns\n",
    "col = pd.read_csv(\"Metadata.csv\")\n",
    "col_cor = dict(zip(col[\"Variable\"], col[\"Definition\"]))\n",
    "df = df.rename(columns = col_cor)\n",
    "\n",
    "df = df.rename(columns = {\"Interest Rate on the loan\" : \"interest_rate\",\n",
    "                              \"A unique id for the loan.\" : \"loan_id\",\n",
    "                              \"A unique id assigned for the borrower.\" : \"borrower_id\",\n",
    "                              \"Loan amount requested\" : \"loan_amount_requested\",\n",
    "                              \"Loan amount funded\" : \"loan_amount_funded\",\n",
    "                              \"Investor-funded portion of loan\" : \"investor-funded_portion_of_loan\",\n",
    "                              \"Number of payments (36 or 60)\" : \"number_of_payments\",\n",
    "                              \"Loan grade\" : \"loan_grade\",\n",
    "                              \"Loan subgrade\" : \"loan_subgrade\",\n",
    "                              \"Employer or job title (self-filled)\" : \"employer/job_title\",\n",
    "                              \"Number of years employed (0 to 10; 10 = 10 or more)\" : \"years_employed\",\n",
    "                              \"Home ownership status: RENT, OWN, MORTGAGE, OTHER.\" : \"home_ownership_status\",\n",
    "                              \"Annual income of borrower\" : \"borrower's_annual_income\",\n",
    "                              \"Income verified, not verified, or income source was verified\" : \"income_verified\",\n",
    "                              \"Date loan was issued\" : \"issue_month\",\n",
    "                              \"Reason for loan provided by borrower\" : \"reason_for_borrowing\",\n",
    "                              \"Loan category, as provided by borrower\" : \"loan_category\",\n",
    "                              \"Loan title, as provided by borrower\" : \"loan_title\",\n",
    "                              \"First 3 numbers of zip code\" : \"zipcode_first3\",\n",
    "                              \"State of borrower\" : \"state_of_borrower\",\n",
    "                              \"A ratio calculated using the borrower�۪s total monthly debt payments on the total debt obligations, excluding mortgage and the requested loan, divided by the borrower�۪s self-reported monthly income.\" : \"debt_ratio\",\n",
    "                              \"The number of 30+ days past-due incidences of delinquency in the borrower's credit file for the past 2 years\" : \"num_of_past-dues\",\n",
    "                              \"Date the borrower's earliest reported credit line was opened\" : \"credit-line_open_date\",\n",
    "                              \"Number of inquiries by creditors during the past 6 months.\" : \"num_of_inquiries\",\n",
    "                              \"Number of months since the borrower's last delinquency.\" : \"month_since_last_delinquency\",\n",
    "                              \"Number of months since the last public record.\" : \"duration_of_public_record\",\n",
    "                              \"Number of open credit lines in the borrower's credit file.\" : \"open_credit-lines\",\n",
    "                              \"Number of derogatory public records\" : \"derogatory_records\",\n",
    "                              \"Total credit revolving balance\" : \"revolving_balance\",\n",
    "                              \"Revolving line utilization rate, or the amount of credit the borrower is using relative to all available revolving credit.\" : \"revolving_ratio\",\n",
    "                              \"The total number of credit lines currently in the borrower's credit file\" : \"total_credit-lines\",\n",
    "                              \"The initial listing status of the loan. Possible values are ��� W, F\" : \"initial_status\" })"
   ]
  },
  {
   "cell_type": "code",
   "execution_count": 55,
   "id": "b6507aef",
   "metadata": {},
   "outputs": [],
   "source": [
    "# drop columns\n",
    "df = df.drop(columns=[\"interest_rate\", \"loan_id\", \"borrower_id\", \"loan_grade\", \n",
    "                      \"loan_title\", \"reason_for_borrowing\", \"zipcode_first3\", \n",
    "                      \"duration_of_public_record\", \"total_credit-lines\", \n",
    "                      \"credit-line_open_date\", \"years_employed\"])\n"
   ]
  },
  {
   "cell_type": "code",
   "execution_count": 56,
   "id": "0b21b63b",
   "metadata": {},
   "outputs": [],
   "source": [
    "# correct datatype\n",
    "df[\"loan_amount_requested\"] = df[\"loan_amount_requested\"].str.replace(\"\\$\", \"\", regex=True).replace(\",\", \"\", regex=True)\n",
    "df[\"loan_amount_requested\"] = df[\"loan_amount_requested\"].astype(dtype=\"float\")\n",
    "\n",
    "df[\"loan_amount_funded\"] = df[\"loan_amount_funded\"].str.replace(\"\\$\", \"\", regex=True).replace(\",\", \"\", regex=True)\n",
    "df[\"loan_amount_funded\"] = df[\"loan_amount_funded\"].astype(dtype=\"float\")\n",
    "\n",
    "df[\"investor-funded_portion_of_loan\"] = df[\"investor-funded_portion_of_loan\"].str.replace(\"\\$\", \"\", regex=True).replace(\",\", \"\", regex=True)\n",
    "df[\"investor-funded_portion_of_loan\"] = df[\"investor-funded_portion_of_loan\"].astype(dtype=\"float\")\n",
    "\n",
    "df[\"number_of_payments\"] = df[\"number_of_payments\"].str.replace(\" months\", \"\", regex=True)\n",
    "df[\"number_of_payments\"] = df[\"number_of_payments\"].astype(dtype=\"float\")\n",
    "\n",
    "df[\"income_verified\"] = df[\"income_verified\"].str.replace(\"VERIFIED - income\", \"verified\", regex=True).replace(\"VERIFIED - income source\", \"verified\", regex=True)\n",
    "df[\"income_verified\"] = df[\"income_verified\"].apply(lambda x: 1 if x==\"verified\" else 0)\n"
   ]
  },
  {
   "cell_type": "code",
   "execution_count": 57,
   "id": "90f1ea9f",
   "metadata": {},
   "outputs": [],
   "source": [
    "# correct datatype continue\n",
    "scale_mapper = {\"A1\":35, \"A2\":34, \"A3\":33, \"A4\":32, \"A5\":31, # loan_subgrade: str to ordinary \n",
    "                \"B1\":30, \"B2\":29, \"B3\":28, \"B4\":27, \"B5\":26,\n",
    "                \"C1\":25, \"C2\":24, \"C3\":23, \"C4\":22, \"C5\":21,\n",
    "                \"D1\":20, \"D2\":19, \"D3\":18, \"D4\":17, \"D5\":16,\n",
    "                \"E1\":15, \"E2\":14, \"E3\":13, \"E4\":12, \"E5\":11,\n",
    "                \"F1\":10, \"F2\":9, \"F3\":8, \"F4\":7, \"F5\":6,\n",
    "                \"G1\":5, \"G2\":4, \"G3\":3, \"G4\":2, \"G5\":1,}\n",
    "df[\"loan_subgrade\"] = df[\"loan_subgrade\"].replace(scale_mapper)\n",
    "\n",
    "df[\"loan_for_debt_consolidation\"] = df[\"loan_category\"].apply(lambda x: 1 if x == \"debt_consolidation\" else 0)\n",
    "df[\"loan_for_credit_card\"] = df[\"loan_category\"].apply(lambda x: 1 if x == \"credit_card\" else 0)\n",
    "df = df.drop(columns=[\"loan_category\"])\n",
    "\n",
    "\n",
    "df[\"home_is_MORTGAGE\"] = df[\"home_ownership_status\"].apply(lambda x: 1 if x == \"MORTGAGE\" else 0)\n",
    "df[\"home_is_RENT\"] = df[\"home_ownership_status\"].apply(lambda x: 1 if x == \"RENT\" else 0)\n",
    "df = df.drop(columns=[\"home_ownership_status\"])\n",
    "\n",
    "cur_date = pd.to_datetime(\"today\")\n",
    "df[\"issue_month\"] = pd.to_datetime(df[\"issue_month\"], format='%y-%b')\n",
    "df[\"issue_month\"] = (cur_date - df[\"issue_month\"]) / np.timedelta64(1, 'M')\n",
    "df[\"issue_month\"] = df[\"issue_month\"].round().astype(float)\n",
    "\n",
    "df[\"revolving_ratio\"] = df[\"revolving_ratio\"].str.replace(\"%\", \"\")\n",
    "df[\"revolving_ratio\"] = df[\"revolving_ratio\"].astype(dtype=\"float\")\n",
    "\n",
    "df[\"initial_status\"] = df[\"initial_status\"].apply(lambda x: 1 if x==\"f\" else (0 if x==\"w\" else np.nan))\n",
    "df = df.rename(columns={\"initial_status\":\"initial_status_is_f\"})\n"
   ]
  },
  {
   "cell_type": "code",
   "execution_count": 58,
   "id": "7d976bd1",
   "metadata": {},
   "outputs": [],
   "source": [
    "# handle missing values\n",
    "df[\"month_since_last_delinquency\"] = df[\"month_since_last_delinquency\"].apply(lambda x: 0 if np.isnan(x) else 1)\n",
    "df = df.rename(columns={\"month_since_last_delinquency\" : \"had_delinquency\"})\n",
    "\n",
    "df.loc[df[\"revolving_ratio\"]>100,'revolving_ratio'] = df[\"revolving_ratio\"].mean()\n",
    "df[\"revolving_ratio\"].fillna(value=df[\"revolving_ratio\"].mean(), inplace=True)\n",
    "\n",
    "df[\"employer/job_title\"] = df[\"employer/job_title\"].apply(lambda x: 0 if pd.isnull(x) else 1)\n",
    "df = df.rename(columns={\"employer/job_title\" : \"is_employed\"})\n",
    "\n",
    "states = [\"ME\", \"NE\", \"IA\", \"ID\"]\n",
    "df[\"state_of_borrower\"] = df[\"state_of_borrower\"].apply(lambda x: 1 if x in states else 0)\n",
    "df = df.rename(columns={\"state_of_borrower\" : \"is_unusual_state\"})\n"
   ]
  },
  {
   "cell_type": "markdown",
   "id": "2886aa7f",
   "metadata": {},
   "source": [
    "Run Model"
   ]
  },
  {
   "cell_type": "code",
   "execution_count": 59,
   "id": "72410231",
   "metadata": {},
   "outputs": [],
   "source": [
    "# standardize dataset\n",
    "scaler = StandardScaler()\n",
    "sd_df = pd.DataFrame(data=scaler.fit_transform(df),\n",
    "                       columns=df.columns)\n",
    "\n",
    "# predict\n",
    "interest_rate = lr.predict(sd_df)\n",
    "i = df.index"
   ]
  },
  {
   "cell_type": "code",
   "execution_count": 60,
   "id": "e92e16e1",
   "metadata": {},
   "outputs": [],
   "source": [
    "# de-standardize interest rate\n",
    "miu = loan[\"interest_rate\"].mean()\n",
    "sd = loan[\"interest_rate\"].std()\n",
    "interest_rate = interest_rate*sd + miu"
   ]
  },
  {
   "cell_type": "markdown",
   "id": "22570ebf",
   "metadata": {},
   "source": [
    "Save Results"
   ]
  },
  {
   "cell_type": "code",
   "execution_count": 61,
   "id": "2597ed59",
   "metadata": {},
   "outputs": [],
   "source": [
    "#test = pd.read_csv(\"Holdout for Testing.csv\")\n",
    "predict = pd.DataFrame({\n",
    "    \"Index\": i,\n",
    "    \"interest_rate\": interest_rate\n",
    "})\n",
    "predict.to_csv(\"Results from_ZhuoxinSun.csv\", index=False)"
   ]
  }
 ],
 "metadata": {
  "kernelspec": {
   "display_name": "Python 3 (ipykernel)",
   "language": "python",
   "name": "python3"
  },
  "language_info": {
   "codemirror_mode": {
    "name": "ipython",
    "version": 3
   },
   "file_extension": ".py",
   "mimetype": "text/x-python",
   "name": "python",
   "nbconvert_exporter": "python",
   "pygments_lexer": "ipython3",
   "version": "3.9.7"
  }
 },
 "nbformat": 4,
 "nbformat_minor": 5
}
